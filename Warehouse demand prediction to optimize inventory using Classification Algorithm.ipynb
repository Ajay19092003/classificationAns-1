{
 "cells": [
  {
   "cell_type": "markdown",
   "id": "daa6a482",
   "metadata": {},
   "source": [
    "# Warehouse demand prediction to optimize inventory"
   ]
  },
  {
   "cell_type": "code",
   "execution_count": 1,
   "id": "4ff3ee6a",
   "metadata": {},
   "outputs": [],
   "source": [
    "# Importing requierd libraries :\n",
    "\n",
    "import numpy as np\n",
    "import pandas as pd\n",
    "from sklearn.model_selection import train_test_split\n",
    "from sklearn.preprocessing import LabelEncoder, StandardScaler"
   ]
  },
  {
   "cell_type": "code",
   "execution_count": 2,
   "id": "00f530cf",
   "metadata": {},
   "outputs": [],
   "source": [
    "# Function to calculate the activation function weights ,cost and gradients for the classification model :\n",
    "\n",
    "def sigmoid(z):\n",
    "    return 1 / (1 + np.exp(-z))\n",
    "\n",
    "def initialize_weights(n_features):\n",
    "    weights = np.zeros(n_features)\n",
    "    bias = 0\n",
    "    return weights, bias\n",
    "\n",
    "def compute_cost(y, y_pred):\n",
    "    m = len(y)\n",
    "    cost = -(1 / m) * np.sum(y * np.log(y_pred + 1e-10) + (1 - y) * np.log(1 - y_pred + 1e-10))\n",
    "    return cost\n",
    "\n",
    "def compute_gradients(X, y, y_pred):\n",
    "    m = len(y)\n",
    "    dw = (1 / m) * np.dot(X.T, (y_pred - y))\n",
    "    db = (1 / m) * np.sum(y_pred - y)\n",
    "    return dw, db"
   ]
  },
  {
   "cell_type": "code",
   "execution_count": 3,
   "id": "aab1d693",
   "metadata": {},
   "outputs": [],
   "source": [
    "# Function to train the classification model :\n",
    "\n",
    "def train_logistic_regression(X, y, learning_rate=0.01, n_iterations=1000):\n",
    "    n_features = X.shape[1]\n",
    "    weights, bias = initialize_weights(n_features)\n",
    "    cost_history = []\n",
    "\n",
    "    for i in range(n_iterations):\n",
    "        z = np.dot(X, weights) + bias\n",
    "        y_pred = sigmoid(z)\n",
    "        cost = compute_cost(y, y_pred)\n",
    "        cost_history.append(cost)\n",
    "        dw, db = compute_gradients(X, y, y_pred)\n",
    "        weights -= learning_rate * dw\n",
    "        bias -= learning_rate * db\n",
    "    return weights, bias, cost_history"
   ]
  },
  {
   "cell_type": "code",
   "execution_count": 4,
   "id": "2c823343",
   "metadata": {},
   "outputs": [],
   "source": [
    "# Function to predict the analysis of the classification model :\n",
    "\n",
    "def predict(X, weights, bias):\n",
    "    z = np.dot(X, weights) + bias\n",
    "    y_pred = sigmoid(z)\n",
    "    return np.where(y_pred >= 0.5, 1, 0)"
   ]
  },
  {
   "cell_type": "code",
   "execution_count": 5,
   "id": "98fdfe67",
   "metadata": {},
   "outputs": [],
   "source": [
    "# Function to evaluate the accuracy of the classification model :\n",
    "\n",
    "def evaluate_model(y_true, y_pred):\n",
    "    accuracy = np.mean(y_true == y_pred)\n",
    "    return accuracy"
   ]
  },
  {
   "cell_type": "code",
   "execution_count": 16,
   "id": "802c6805",
   "metadata": {},
   "outputs": [
    {
     "data": {
      "text/html": [
       "<div>\n",
       "<style scoped>\n",
       "    .dataframe tbody tr th:only-of-type {\n",
       "        vertical-align: middle;\n",
       "    }\n",
       "\n",
       "    .dataframe tbody tr th {\n",
       "        vertical-align: top;\n",
       "    }\n",
       "\n",
       "    .dataframe thead th {\n",
       "        text-align: right;\n",
       "    }\n",
       "</style>\n",
       "<table border=\"1\" class=\"dataframe\">\n",
       "  <thead>\n",
       "    <tr style=\"text-align: right;\">\n",
       "      <th></th>\n",
       "      <th>Date</th>\n",
       "      <th>SKU</th>\n",
       "      <th>Product_Category</th>\n",
       "      <th>Previous_Sales</th>\n",
       "      <th>Promotions</th>\n",
       "      <th>Price</th>\n",
       "      <th>Day_of_Week</th>\n",
       "      <th>Region</th>\n",
       "      <th>Lead_Time</th>\n",
       "      <th>Weather</th>\n",
       "      <th>Demand_Level</th>\n",
       "    </tr>\n",
       "  </thead>\n",
       "  <tbody>\n",
       "    <tr>\n",
       "      <th>0</th>\n",
       "      <td>1/1/2023</td>\n",
       "      <td>SKU-464</td>\n",
       "      <td>Electronics</td>\n",
       "      <td>142</td>\n",
       "      <td>No</td>\n",
       "      <td>286.92</td>\n",
       "      <td>Tuesday</td>\n",
       "      <td>East</td>\n",
       "      <td>1</td>\n",
       "      <td>Rainy</td>\n",
       "      <td>Low</td>\n",
       "    </tr>\n",
       "    <tr>\n",
       "      <th>1</th>\n",
       "      <td>1/2/2023</td>\n",
       "      <td>SKU-104</td>\n",
       "      <td>Electronics</td>\n",
       "      <td>36</td>\n",
       "      <td>Yes</td>\n",
       "      <td>133.47</td>\n",
       "      <td>Monday</td>\n",
       "      <td>East</td>\n",
       "      <td>9</td>\n",
       "      <td>Sunny</td>\n",
       "      <td>Medium</td>\n",
       "    </tr>\n",
       "    <tr>\n",
       "      <th>2</th>\n",
       "      <td>1/3/2023</td>\n",
       "      <td>SKU-218</td>\n",
       "      <td>Food</td>\n",
       "      <td>151</td>\n",
       "      <td>Yes</td>\n",
       "      <td>221.31</td>\n",
       "      <td>Thursday</td>\n",
       "      <td>North</td>\n",
       "      <td>9</td>\n",
       "      <td>Sunny</td>\n",
       "      <td>Medium</td>\n",
       "    </tr>\n",
       "    <tr>\n",
       "      <th>3</th>\n",
       "      <td>1/4/2023</td>\n",
       "      <td>SKU-388</td>\n",
       "      <td>Electronics</td>\n",
       "      <td>114</td>\n",
       "      <td>Yes</td>\n",
       "      <td>298.81</td>\n",
       "      <td>Wednesday</td>\n",
       "      <td>North</td>\n",
       "      <td>7</td>\n",
       "      <td>Cloudy</td>\n",
       "      <td>Medium</td>\n",
       "    </tr>\n",
       "    <tr>\n",
       "      <th>4</th>\n",
       "      <td>1/5/2023</td>\n",
       "      <td>SKU-473</td>\n",
       "      <td>Electronics</td>\n",
       "      <td>66</td>\n",
       "      <td>No</td>\n",
       "      <td>41.18</td>\n",
       "      <td>Saturday</td>\n",
       "      <td>South</td>\n",
       "      <td>7</td>\n",
       "      <td>Cloudy</td>\n",
       "      <td>High</td>\n",
       "    </tr>\n",
       "    <tr>\n",
       "      <th>...</th>\n",
       "      <td>...</td>\n",
       "      <td>...</td>\n",
       "      <td>...</td>\n",
       "      <td>...</td>\n",
       "      <td>...</td>\n",
       "      <td>...</td>\n",
       "      <td>...</td>\n",
       "      <td>...</td>\n",
       "      <td>...</td>\n",
       "      <td>...</td>\n",
       "      <td>...</td>\n",
       "    </tr>\n",
       "    <tr>\n",
       "      <th>995</th>\n",
       "      <td>9/22/2025</td>\n",
       "      <td>SKU-191</td>\n",
       "      <td>Furniture</td>\n",
       "      <td>168</td>\n",
       "      <td>No</td>\n",
       "      <td>234.67</td>\n",
       "      <td>Sunday</td>\n",
       "      <td>East</td>\n",
       "      <td>5</td>\n",
       "      <td>Rainy</td>\n",
       "      <td>High</td>\n",
       "    </tr>\n",
       "    <tr>\n",
       "      <th>996</th>\n",
       "      <td>9/23/2025</td>\n",
       "      <td>SKU-452</td>\n",
       "      <td>Clothing</td>\n",
       "      <td>142</td>\n",
       "      <td>No</td>\n",
       "      <td>63.76</td>\n",
       "      <td>Saturday</td>\n",
       "      <td>East</td>\n",
       "      <td>4</td>\n",
       "      <td>Sunny</td>\n",
       "      <td>High</td>\n",
       "    </tr>\n",
       "    <tr>\n",
       "      <th>997</th>\n",
       "      <td>9/24/2025</td>\n",
       "      <td>SKU-158</td>\n",
       "      <td>Furniture</td>\n",
       "      <td>35</td>\n",
       "      <td>Yes</td>\n",
       "      <td>490.38</td>\n",
       "      <td>Sunday</td>\n",
       "      <td>East</td>\n",
       "      <td>7</td>\n",
       "      <td>Cloudy</td>\n",
       "      <td>Low</td>\n",
       "    </tr>\n",
       "    <tr>\n",
       "      <th>998</th>\n",
       "      <td>9/25/2025</td>\n",
       "      <td>SKU-158</td>\n",
       "      <td>Clothing</td>\n",
       "      <td>176</td>\n",
       "      <td>No</td>\n",
       "      <td>111.27</td>\n",
       "      <td>Thursday</td>\n",
       "      <td>North</td>\n",
       "      <td>7</td>\n",
       "      <td>Sunny</td>\n",
       "      <td>Medium</td>\n",
       "    </tr>\n",
       "    <tr>\n",
       "      <th>999</th>\n",
       "      <td>9/26/2025</td>\n",
       "      <td>SKU-403</td>\n",
       "      <td>Electronics</td>\n",
       "      <td>84</td>\n",
       "      <td>No</td>\n",
       "      <td>38.28</td>\n",
       "      <td>Thursday</td>\n",
       "      <td>South</td>\n",
       "      <td>6</td>\n",
       "      <td>Rainy</td>\n",
       "      <td>Medium</td>\n",
       "    </tr>\n",
       "  </tbody>\n",
       "</table>\n",
       "<p>1000 rows × 11 columns</p>\n",
       "</div>"
      ],
      "text/plain": [
       "          Date      SKU Product_Category  Previous_Sales Promotions   Price  \\\n",
       "0     1/1/2023  SKU-464      Electronics             142         No  286.92   \n",
       "1     1/2/2023  SKU-104      Electronics              36        Yes  133.47   \n",
       "2     1/3/2023  SKU-218             Food             151        Yes  221.31   \n",
       "3     1/4/2023  SKU-388      Electronics             114        Yes  298.81   \n",
       "4     1/5/2023  SKU-473      Electronics              66         No   41.18   \n",
       "..         ...      ...              ...             ...        ...     ...   \n",
       "995  9/22/2025  SKU-191        Furniture             168         No  234.67   \n",
       "996  9/23/2025  SKU-452         Clothing             142         No   63.76   \n",
       "997  9/24/2025  SKU-158        Furniture              35        Yes  490.38   \n",
       "998  9/25/2025  SKU-158         Clothing             176         No  111.27   \n",
       "999  9/26/2025  SKU-403      Electronics              84         No   38.28   \n",
       "\n",
       "    Day_of_Week Region  Lead_Time Weather Demand_Level  \n",
       "0       Tuesday   East          1   Rainy          Low  \n",
       "1        Monday   East          9   Sunny       Medium  \n",
       "2      Thursday  North          9   Sunny       Medium  \n",
       "3     Wednesday  North          7  Cloudy       Medium  \n",
       "4      Saturday  South          7  Cloudy         High  \n",
       "..          ...    ...        ...     ...          ...  \n",
       "995      Sunday   East          5   Rainy         High  \n",
       "996    Saturday   East          4   Sunny         High  \n",
       "997      Sunday   East          7  Cloudy          Low  \n",
       "998    Thursday  North          7   Sunny       Medium  \n",
       "999    Thursday  South          6   Rainy       Medium  \n",
       "\n",
       "[1000 rows x 11 columns]"
      ]
     },
     "execution_count": 16,
     "metadata": {},
     "output_type": "execute_result"
    }
   ],
   "source": [
    "# Loading the data :\n",
    "data = pd.read_csv('Corrected_Warehouse_Demand_Prediction.csv')\n",
    "data"
   ]
  },
  {
   "cell_type": "markdown",
   "id": "e9f99c00",
   "metadata": {},
   "source": [
    "# Data preprocessing :"
   ]
  },
  {
   "cell_type": "code",
   "execution_count": 7,
   "id": "6c2c0c0c",
   "metadata": {},
   "outputs": [],
   "source": [
    "# Conversion of columns to numerical values(categorical ot binary ) :\n",
    "\n",
    "data['Previous_Sales'] = pd.to_numeric(data['Previous_Sales'], errors='coerce')\n",
    "data['Promotions'] = data['Promotions'].map({'Yes': 1, 'No': 0}) \n",
    "data['Price'] = pd.to_numeric(data['Price'], errors='coerce')\n",
    "data['Lead_Time'] = pd.to_numeric(data['Lead_Time'], errors='coerce')"
   ]
  },
  {
   "cell_type": "code",
   "execution_count": 8,
   "id": "884b80c5",
   "metadata": {},
   "outputs": [],
   "source": [
    "# Feature selction and target variable :\n",
    "\n",
    "X = data[['Previous_Sales', 'Promotions', 'Price', 'Lead_Time']]\n",
    "y = data['Demand_Level']"
   ]
  },
  {
   "cell_type": "code",
   "execution_count": 9,
   "id": "c17213a0",
   "metadata": {},
   "outputs": [],
   "source": [
    "# Encoding variables :\n",
    "\n",
    "label_encoder = LabelEncoder()\n",
    "y_encoded = label_encoder.fit_transform(y)"
   ]
  },
  {
   "cell_type": "code",
   "execution_count": 10,
   "id": "066a5253",
   "metadata": {},
   "outputs": [
    {
     "name": "stderr",
     "output_type": "stream",
     "text": [
      "C:\\Users\\AjayG\\AppData\\Local\\Temp\\ipykernel_22116\\3556303318.py:3: SettingWithCopyWarning: \n",
      "A value is trying to be set on a copy of a slice from a DataFrame\n",
      "\n",
      "See the caveats in the documentation: https://pandas.pydata.org/pandas-docs/stable/user_guide/indexing.html#returning-a-view-versus-a-copy\n",
      "  X.dropna(inplace=True)\n"
     ]
    }
   ],
   "source": [
    "# Dropping out rows with NaN values\n",
    "\n",
    "X.dropna(inplace=True)\n",
    "y_encoded = y_encoded[X.index.isin(X.dropna().index)]"
   ]
  },
  {
   "cell_type": "code",
   "execution_count": 11,
   "id": "08da718f",
   "metadata": {},
   "outputs": [],
   "source": [
    "# Splitting training and testing data :\n",
    "\n",
    "X_train, X_test, y_train, y_test = train_test_split(X.values, y_encoded, test_size=0.2, random_state=42)"
   ]
  },
  {
   "cell_type": "code",
   "execution_count": 12,
   "id": "9417a657",
   "metadata": {},
   "outputs": [],
   "source": [
    "# Scaling of table values for dimensional reduction :\n",
    "\n",
    "scaler = StandardScaler()\n",
    "X_train_scaled = scaler.fit_transform(X_train)\n",
    "X_test_scaled = scaler.transform(X_test)"
   ]
  },
  {
   "cell_type": "code",
   "execution_count": 13,
   "id": "4b5588af",
   "metadata": {},
   "outputs": [],
   "source": [
    "# Train the model :\n",
    "\n",
    "weights, bias, cost_history = train_logistic_regression(X_train_scaled, y_train, learning_rate=0.01, n_iterations=1000)"
   ]
  },
  {
   "cell_type": "code",
   "execution_count": 14,
   "id": "4a91f964",
   "metadata": {},
   "outputs": [],
   "source": [
    "# Predictions :\n",
    "\n",
    "y_pred = predict(X_test_scaled, weights, bias)"
   ]
  },
  {
   "cell_type": "code",
   "execution_count": 15,
   "id": "6cee37f8",
   "metadata": {},
   "outputs": [
    {
     "name": "stdout",
     "output_type": "stream",
     "text": [
      "Accuracy: 34.50%\n"
     ]
    }
   ],
   "source": [
    "# Evaluation metrics -Accuracy :\n",
    "\n",
    "accuracy = evaluate_model(y_test, y_pred)\n",
    "print(f\"Accuracy: {accuracy * 100:.2f}%\")"
   ]
  },
  {
   "cell_type": "code",
   "execution_count": null,
   "id": "7f0aecf1",
   "metadata": {},
   "outputs": [],
   "source": []
  }
 ],
 "metadata": {
  "kernelspec": {
   "display_name": "Python 3 (ipykernel)",
   "language": "python",
   "name": "python3"
  },
  "language_info": {
   "codemirror_mode": {
    "name": "ipython",
    "version": 3
   },
   "file_extension": ".py",
   "mimetype": "text/x-python",
   "name": "python",
   "nbconvert_exporter": "python",
   "pygments_lexer": "ipython3",
   "version": "3.10.9"
  }
 },
 "nbformat": 4,
 "nbformat_minor": 5
}
